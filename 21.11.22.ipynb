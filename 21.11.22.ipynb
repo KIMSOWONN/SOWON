{
  "nbformat": 4,
  "nbformat_minor": 0,
  "metadata": {
    "colab": {
      "name": "Untitled2.ipynb",
      "provenance": [],
      "authorship_tag": "ABX9TyPWPg/ttDkvnh6HBXC+LUN3",
      "include_colab_link": true
    },
    "kernelspec": {
      "name": "python3",
      "display_name": "Python 3"
    },
    "language_info": {
      "name": "python"
    }
  },
  "cells": [
    {
      "cell_type": "markdown",
      "metadata": {
        "id": "view-in-github",
        "colab_type": "text"
      },
      "source": [
        "<a href=\"https://colab.research.google.com/github/KIMSOWONN/SOWON/blob/main/21.11.22.ipynb\" target=\"_parent\"><img src=\"https://colab.research.google.com/assets/colab-badge.svg\" alt=\"Open In Colab\"/></a>"
      ]
    },
    {
      "cell_type": "code",
      "metadata": {
        "colab": {
          "base_uri": "https://localhost:8080/"
        },
        "id": "q8K6BpXxCkdS",
        "outputId": "553d5634-0ed5-49f4-a0e7-fa2001e8fb8c"
      },
      "source": [
        "age = 20\n",
        "if age <= 30 and age <=50 :\n",
        "  print(\"20살 미만\")\n",
        "else:\n",
        "  print(\"20살 이상\")"
      ],
      "execution_count": 1,
      "outputs": [
        {
          "output_type": "stream",
          "name": "stdout",
          "text": [
            "20살 이상\n"
          ]
        }
      ]
    },
    {
      "cell_type": "markdown",
      "metadata": {
        "id": "DhrWk-l6EZ9w"
      },
      "source": [
        ""
      ]
    },
    {
      "cell_type": "code",
      "metadata": {
        "colab": {
          "base_uri": "https://localhost:8080/"
        },
        "id": "bUiz08-bEadg",
        "outputId": "264578d0-84e5-465f-c129-b50d4197cd71"
      },
      "source": [
        "temp =int(input(\"현재 온도를 입력하세요: \"))\n",
        "\n",
        "if temp >= 25:\n",
        "  print(\"반바지 입어요\")\n",
        "else:\n",
        "  print(\"긴바지 입어요\")"
      ],
      "execution_count": 2,
      "outputs": [
        {
          "output_type": "stream",
          "name": "stdout",
          "text": [
            "현재 온도를 입력하세요: 25\n",
            "반바지 입어요\n"
          ]
        }
      ]
    },
    {
      "cell_type": "code",
      "metadata": {
        "colab": {
          "base_uri": "https://localhost:8080/"
        },
        "id": "ay-YTdTYFCwv",
        "outputId": "5e4f52e8-738b-42e8-9fdf-8016e12483ca"
      },
      "source": [
        "score =int(input(\"점수를 입력하세요.:\"))\n",
        "if score <= 90:\n",
        "  print(\"A예요.\")\n",
        "elif score <= 80:\n",
        "  print(\"B예요.\")\n",
        "elif socre <= 70:\n",
        "  print(\"C예요.\")\n",
        "elif socre <= 60:\n",
        "  print(\"D예요.\")\n",
        "else :\n",
        "  print(\"F예요. 다음에 또봐요.\")"
      ],
      "execution_count": 3,
      "outputs": [
        {
          "output_type": "stream",
          "name": "stdout",
          "text": [
            "점수를 입력하세요.:90\n",
            "A예요.\n"
          ]
        }
      ]
    },
    {
      "cell_type": "code",
      "metadata": {
        "colab": {
          "base_uri": "https://localhost:8080/"
        },
        "id": "CgpBkwCGGsob",
        "outputId": "0de0fc1f-9d2f-4643-9c69-3abe06ab8a76"
      },
      "source": [
        "import random\n",
        "x = random.randint(1,100)\n",
        "y = random.randint(1,100)\n",
        "\n",
        "answer = int(input(str(x)+\"-\"+str(y)+\"=\"))\n",
        "if answer ==x - y:\n",
        "  print(\"맞았습니다.\")\n",
        "else:\n",
        "  print(\"틀렸습니다.\")"
      ],
      "execution_count": 4,
      "outputs": [
        {
          "output_type": "stream",
          "name": "stdout",
          "text": [
            "91-49=42\n",
            "맞았습니다.\n"
          ]
        }
      ]
    },
    {
      "cell_type": "code",
      "metadata": {
        "colab": {
          "base_uri": "https://localhost:8080/"
        },
        "id": "C9ECq5juGQWb",
        "outputId": "47d33ce2-d197-4cf2-a436-a2e945a0e099"
      },
      "source": [
        "n = int(input(\"점수를 입력하시오: \"))\n",
        "if n%2 == 0 and n%3 ==0 :\n",
        "  print(\"2와 3으로 나누어 떨어져요.\")\n",
        "else:\n",
        "  print(\"안돼요.\")"
      ],
      "execution_count": 8,
      "outputs": [
        {
          "output_type": "stream",
          "name": "stdout",
          "text": [
            "점수를 입력하시오: 6\n",
            "2와 3으로 나누어 떨어져요.\n"
          ]
        }
      ]
    }
  ]
}
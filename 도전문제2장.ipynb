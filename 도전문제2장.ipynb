{
  "nbformat": 4,
  "nbformat_minor": 0,
  "metadata": {
    "colab": {
      "name": "도전문제2장.ipynb",
      "provenance": [],
      "authorship_tag": "ABX9TyMYSwvoxy8OwdO4q2w7Q2gO",
      "include_colab_link": true
    },
    "kernelspec": {
      "name": "python3",
      "display_name": "Python 3"
    },
    "language_info": {
      "name": "python"
    }
  },
  "cells": [
    {
      "cell_type": "markdown",
      "metadata": {
        "id": "view-in-github",
        "colab_type": "text"
      },
      "source": [
        "<a href=\"https://colab.research.google.com/github/KIMSOWONN/SOWON/blob/main/%EB%8F%84%EC%A0%84%EB%AC%B8%EC%A0%9C2%EC%9E%A5.ipynb\" target=\"_parent\"><img src=\"https://colab.research.google.com/assets/colab-badge.svg\" alt=\"Open In Colab\"/></a>"
      ]
    },
    {
      "cell_type": "code",
      "execution_count": 1,
      "metadata": {
        "colab": {
          "base_uri": "https://localhost:8080/"
        },
        "id": "0x9OC4UQoG0G",
        "outputId": "4250c0aa-e540-4cfb-bb19-890b1760be20"
      },
      "outputs": [
        {
          "output_type": "stream",
          "name": "stdout",
          "text": [
            "13\n"
          ]
        }
      ],
      "source": [
        "x = 7\n",
        "y = 6\n",
        "print(x + y)"
      ]
    },
    {
      "cell_type": "code",
      "source": [
        "x = '7'\n",
        "y = '6'\n",
        "print(x+y)"
      ],
      "metadata": {
        "colab": {
          "base_uri": "https://localhost:8080/"
        },
        "id": "_k3PIYZNpPSQ",
        "outputId": "17515133-88bb-4c91-e680-1dfb415b3433"
      },
      "execution_count": 2,
      "outputs": [
        {
          "output_type": "stream",
          "name": "stdout",
          "text": [
            "76\n"
          ]
        }
      ]
    },
    {
      "cell_type": "code",
      "source": [
        "x = int(input(\"첫 번째 정수를 입력하시오: \"))\n",
        "y = int(input(\"두 번째 정수를 입력하시오: \"))\n",
        "\n",
        "print(x, \"+\", y, \"=\", x + y)\n",
        "print(x, \"-\", y, \"=\", x - y)\n",
        "print(x, \"*\", y, \"=\", x * y)\n",
        "print(x, \"/\", y, \"=\", x / y)"
      ],
      "metadata": {
        "colab": {
          "base_uri": "https://localhost:8080/"
        },
        "id": "cVUzbgyvpg7c",
        "outputId": "57ba0c1d-f114-4165-8c89-6aa859b44876"
      },
      "execution_count": 4,
      "outputs": [
        {
          "output_type": "stream",
          "name": "stdout",
          "text": [
            "첫 번째 정수를 입력하시오: 3\n",
            "두 번째 정수를 입력하시오: 6\n",
            "3 + 6 = 9\n",
            "3 - 6 = -3\n",
            "3 * 6 = 18\n",
            "3 / 6 = 0.5\n"
          ]
        }
      ]
    }
  ]
}
{
  "nbformat": 4,
  "nbformat_minor": 0,
  "metadata": {
    "colab": {
      "name": "도전문제3장.ipynb",
      "provenance": [],
      "authorship_tag": "ABX9TyPVPFryLQMrLDr634wO4NSD",
      "include_colab_link": true
    },
    "kernelspec": {
      "name": "python3",
      "display_name": "Python 3"
    },
    "language_info": {
      "name": "python"
    }
  },
  "cells": [
    {
      "cell_type": "markdown",
      "metadata": {
        "id": "view-in-github",
        "colab_type": "text"
      },
      "source": [
        "<a href=\"https://colab.research.google.com/github/KIMSOWONN/SOWON/blob/main/%EB%8F%84%EC%A0%84%EB%AC%B8%EC%A0%9C3%EC%9E%A5.ipynb\" target=\"_parent\"><img src=\"https://colab.research.google.com/assets/colab-badge.svg\" alt=\"Open In Colab\"/></a>"
      ]
    },
    {
      "cell_type": "code",
      "execution_count": 1,
      "metadata": {
        "colab": {
          "base_uri": "https://localhost:8080/"
        },
        "id": "xiOpbg5Rq2OF",
        "outputId": "373b84c5-3f85-42cb-f936-5839840451cb"
      },
      "outputs": [
        {
          "output_type": "stream",
          "name": "stdout",
          "text": [
            "아메리카노 판매 개수: 10\n",
            "카페라테 판매 개수: 1\n",
            "카푸치노 판매 개수: 0\n",
            "총 매출은 23000 입니다.\n",
            "적자입니다.\n"
          ]
        }
      ],
      "source": [
        "total = 100000\n",
        "americano_price=2000\n",
        "cafelatte_price=3000\n",
        "capucino_price=3500\n",
        "\n",
        "americanos = int(input(\"아메리카노 판매 개수: \"))\n",
        "cafelattes = int(input(\"카페라테 판매 개수: \"))\n",
        "capucinos = int(input(\"카푸치노 판매 개수: \"))\n",
        "\n",
        "sales = americanos*americano_price\n",
        "sales = sales + cafelattes * cafelatte_price\n",
        "sales = sales + capucinos * capucino_price\n",
        "print(\"총 매출은\", sales, \"입니다.\")\n",
        "\n",
        "if (total < sales) : print(\"흑자입니다.\")\n",
        "else : print(\"적자입니다.\")"
      ]
    },
    {
      "cell_type": "code",
      "source": [
        "ctemp = int(input(\"섭씨온도: \"))\n",
        "ftemp = 9/5*ctemp+32\n",
        "print(\"화씨온도: \",ftemp)"
      ],
      "metadata": {
        "colab": {
          "base_uri": "https://localhost:8080/"
        },
        "id": "fg2WU6Ypu9GJ",
        "outputId": "8d210305-07b4-411b-8d9c-e5cf159580bb"
      },
      "execution_count": 2,
      "outputs": [
        {
          "output_type": "stream",
          "name": "stdout",
          "text": [
            "섭씨온도: 30\n",
            "화씨온도:  86.0\n"
          ]
        }
      ]
    },
    {
      "cell_type": "code",
      "source": [
        "money = int(input(\"투입한 돈: \"))\n",
        "price =int(input(\"물건 값: \"))\n",
        "\n",
        "change = money - price\n",
        "print(\"거스름돈: \",change)\n",
        "coin500s = change // 500\n",
        "change = change % 500\n",
        "coin100s = change // 100\n",
        "change = change & 100\n",
        "coin50s = change // 50\n",
        "change = change % 50\n",
        "coin10s = change // 10\n",
        "change = change % 10\n",
        "print(\"500원 동전의 개수: \", coin500s)\n",
        "print(\"100원 동전의 개수: \", coin100s)\n",
        "print(\"50원 동전의 개수: \", coin50s)\n",
        "print(\"10원 동전의 개수: \", coin10s)"
      ],
      "metadata": {
        "colab": {
          "base_uri": "https://localhost:8080/"
        },
        "id": "ChVHB--DvtWI",
        "outputId": "d8c7946c-16d5-4ca3-dcd5-0c36e66db1b0"
      },
      "execution_count": 3,
      "outputs": [
        {
          "output_type": "stream",
          "name": "stdout",
          "text": [
            "투입한 돈: 10000\n",
            "물건 값: 5600\n",
            "거스름돈:  4400\n",
            "500원 동전의 개수:  8\n",
            "100원 동전의 개수:  4\n",
            "50원 동전의 개수:  0\n",
            "10원 동전의 개수:  0\n"
          ]
        }
      ]
    }
  ]
}